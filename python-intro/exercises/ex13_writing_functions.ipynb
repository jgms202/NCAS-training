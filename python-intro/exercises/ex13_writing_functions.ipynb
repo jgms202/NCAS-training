{
 "cells": [
  {
   "cell_type": "markdown",
   "id": "9cd808c7-e8aa-4804-ac9c-ebb88aaa4adf",
   "metadata": {
    "editable": true,
    "slideshow": {
     "slide_type": ""
    },
    "tags": []
   },
   "source": [
    "# Exercise 13: Writing Functions"
   ]
  },
  {
   "cell_type": "markdown",
   "id": "cbeaf56a-3624-47b2-be5d-96e2178b39e7",
   "metadata": {},
   "source": [
    "## Aim: Introduce writing and calling functions."
   ]
  },
  {
   "cell_type": "markdown",
   "id": "8cc7da2d-e917-4340-8b12-a9f1ae0bc9f7",
   "metadata": {},
   "source": [
    "### Issues covered:\n",
    "- Writing a simple function\n",
    "- Indenting code within a function\n",
    "- Sending arguments to functions\n",
    "- Calling functions\n",
    "- Checking arguments in functions"
   ]
  },
  {
   "cell_type": "markdown",
   "id": "dd98dff4-37ca-4ed4-912a-7a607ede591f",
   "metadata": {},
   "source": [
    "## 1. Let's write a simple function and use it"
   ]
  },
  {
   "cell_type": "markdown",
   "id": "aea58556-8b04-4c7e-93e9-970411285915",
   "metadata": {},
   "source": [
    "Use the `def` function to define a function called `hello` to introduce yourself."
   ]
  },
  {
   "cell_type": "code",
   "execution_count": 1,
   "id": "0ffd8204-9f53-4046-9777-0d9788eaf882",
   "metadata": {
    "editable": true,
    "slideshow": {
     "slide_type": ""
    },
    "tags": [
     "clear_answer_cell"
    ]
   },
   "outputs": [],
   "source": [
    "def print_greeting():\n",
    "    print('Hello my name is Josh, nice to meet you')\n",
    "\n"
   ]
  },
  {
   "cell_type": "markdown",
   "id": "924ff97c-c9cb-45b2-8013-911421567b28",
   "metadata": {},
   "source": [
    "Did the function return anything? If not, try running it!"
   ]
  },
  {
   "cell_type": "code",
   "execution_count": 2,
   "id": "2c3ba0cf-e7f9-4a00-9cee-62beadcf564c",
   "metadata": {
    "editable": true,
    "slideshow": {
     "slide_type": ""
    },
    "tags": [
     "clear_answer_cell"
    ]
   },
   "outputs": [
    {
     "name": "stdout",
     "output_type": "stream",
     "text": [
      "Hello my name is Josh, nice to meet you\n"
     ]
    }
   ],
   "source": [
    "print_greeting()"
   ]
  },
  {
   "cell_type": "markdown",
   "id": "2b65a48a-59b6-49bb-a50f-0337f6337140",
   "metadata": {},
   "source": [
    "## 2. Now let's write a function that takes an argument"
   ]
  },
  {
   "cell_type": "markdown",
   "id": "c04ce937-eb00-46b0-9484-0641f6785642",
   "metadata": {},
   "source": [
    "Write a function which takes a number and doubles it."
   ]
  },
  {
   "cell_type": "code",
   "execution_count": 3,
   "id": "74f33b99-6408-4819-8163-01354e71244c",
   "metadata": {
    "editable": true,
    "slideshow": {
     "slide_type": ""
    },
    "tags": [
     "clear_answer_cell"
    ]
   },
   "outputs": [],
   "source": [
    "import math as m \n",
    "\n",
    "def x2(n):\n",
    "    print(2*n)\n",
    "    \n",
    "    "
   ]
  },
  {
   "cell_type": "markdown",
   "id": "1fb61867-5131-4d0f-b512-d5d617ea10d5",
   "metadata": {},
   "source": [
    "Test the function by calling it with an integer, then a float."
   ]
  },
  {
   "cell_type": "code",
   "execution_count": 4,
   "id": "f4009b05-5d2a-45a1-9b5a-a44116b470eb",
   "metadata": {
    "editable": true,
    "slideshow": {
     "slide_type": ""
    },
    "tags": [
     "clear_answer_cell"
    ]
   },
   "outputs": [
    {
     "name": "stdout",
     "output_type": "stream",
     "text": [
      "8\n",
      "11.34\n",
      "6.283185307179586\n"
     ]
    }
   ],
   "source": [
    "x2(4)\n",
    "x2(5.67)\n",
    "x2(m.pi)"
   ]
  },
  {
   "cell_type": "markdown",
   "id": "6323b572-4189-4c13-a794-bfd2126625cc",
   "metadata": {},
   "source": [
    "What happens if you give it a string rather than a number?"
   ]
  },
  {
   "cell_type": "code",
   "execution_count": 5,
   "id": "eaba99a3-d877-4454-b828-9e75984811e2",
   "metadata": {
    "editable": true,
    "slideshow": {
     "slide_type": ""
    },
    "tags": [
     "clear_answer_cell"
    ]
   },
   "outputs": [
    {
     "name": "stdout",
     "output_type": "stream",
     "text": [
      "HelloHello\n"
     ]
    }
   ],
   "source": [
    "x2('Hello')"
   ]
  },
  {
   "cell_type": "markdown",
   "id": "908a4511-dee8-4f94-8a7e-16e36a53c8c6",
   "metadata": {},
   "source": [
    "What happens if you give it 2 numbers?"
   ]
  },
  {
   "cell_type": "code",
   "execution_count": 6,
   "id": "67c6badc-66ca-4967-a333-31f41146e5ea",
   "metadata": {
    "editable": true,
    "slideshow": {
     "slide_type": ""
    },
    "tags": [
     "clear_answer_cell",
     "allow_errors"
    ]
   },
   "outputs": [
    {
     "name": "stdout",
     "output_type": "stream",
     "text": [
      "[1, 2, 3, 4, 5, 1, 2, 3, 4, 5]\n"
     ]
    }
   ],
   "source": [
    "x2([1,2,3,4,5])\n"
   ]
  },
  {
   "cell_type": "markdown",
   "id": "af866a18-40dc-40e1-b35c-df45c4f3b09a",
   "metadata": {},
   "source": [
    "## 3. Let's take a look at what functions return"
   ]
  },
  {
   "cell_type": "markdown",
   "id": "8a892f7c-c239-4789-a7e1-85273e3b18ca",
   "metadata": {},
   "source": [
    "Why is the result of the following `None`? Can you fix it?\n",
    "```\n",
    "def print_time(hour, minute, second):\n",
    "    time_string = str(hour) + ':' + str(minute) + ':' + str(second)\n",
    "    print(time_string)\n",
    "\n",
    "result = print_time(11, 37, 59)\n",
    "print('result of call is:', result)\n",
    "```"
   ]
  },
  {
   "cell_type": "code",
   "execution_count": 66,
   "id": "5e2860aa-633f-4cc9-9c50-117fcfac5088",
   "metadata": {
    "editable": true,
    "slideshow": {
     "slide_type": ""
    },
    "tags": [
     "clear_answer_cell"
    ]
   },
   "outputs": [
    {
     "name": "stdout",
     "output_type": "stream",
     "text": [
      "result of call is: 11:37:59\n"
     ]
    }
   ],
   "source": [
    "def print_time(hour, minute, second):\n",
    "    time_string = str(hour) + ':' + str(minute) + ':' + str(second)\n",
    "    return(time_string)\n",
    "    \n",
    "result = print_time(11, 37, 59)\n",
    "print('result of call is:', result)"
   ]
  },
  {
   "cell_type": "markdown",
   "id": "5d75c52c-7fcb-4726-8dba-b5447cc1c714",
   "metadata": {},
   "source": [
    "Run the following and take a look at what it prints. Restructure it so that instead it prints `calling pressure is 22.5`.\n",
    "```\n",
    "def report(pressure):\n",
    "    print('pressure is', pressure)\n",
    "\n",
    "print('calling', report, 22.5)\n",
    "```"
   ]
  },
  {
   "cell_type": "code",
   "execution_count": 11,
   "id": "b4017873-8a1b-465f-a929-19ee518bb515",
   "metadata": {
    "editable": true,
    "slideshow": {
     "slide_type": ""
    },
    "tags": [
     "clear_answer_cell"
    ]
   },
   "outputs": [
    {
     "name": "stdout",
     "output_type": "stream",
     "text": [
      "calling pressure is 22.5\n"
     ]
    }
   ],
   "source": [
    "def report(pressure):\n",
    "    print('calling pressure is', pressure)\n",
    "\n",
    "report(22.5)"
   ]
  },
  {
   "cell_type": "markdown",
   "id": "109d940a-3794-4998-bb51-f7b070b81ccf",
   "metadata": {},
   "source": [
    "## 4. Let's write a function to use Pythagoras' Theorem, like in exercise 2."
   ]
  },
  {
   "cell_type": "markdown",
   "id": "321170b7-0af5-4c77-84a6-39571b8f72af",
   "metadata": {},
   "source": [
    "Define a function `calc_hypo` that takes two arguments, `a` and `b`. Inside the function, define a variable `hypo` equal to the length of the hypotenuse and return the value."
   ]
  },
  {
   "cell_type": "code",
   "execution_count": 15,
   "id": "cbad04e1-9a87-4637-9d8c-b1972fe0fcee",
   "metadata": {
    "editable": true,
    "slideshow": {
     "slide_type": ""
    },
    "tags": [
     "clear_answer_cell"
    ]
   },
   "outputs": [
    {
     "data": {
      "text/plain": [
       "5.0"
      ]
     },
     "execution_count": 15,
     "metadata": {},
     "output_type": "execute_result"
    }
   ],
   "source": [
    "def calc_hypo(a,b):\n",
    "    h = (a**2 + b**2)**(0.5)\n",
    "    return(h)\n",
    "\n",
    "a = 3\n",
    "b = 4\n",
    "calc_hypo(a, b)\n",
    "    "
   ]
  },
  {
   "cell_type": "markdown",
   "id": "a6da8a84-25e8-4b8d-a13b-04d4d96f6b77",
   "metadata": {},
   "source": [
    "Test out the function by calling it with the values `3` and `4`."
   ]
  },
  {
   "cell_type": "code",
   "execution_count": null,
   "id": "1dff411a-3553-4502-a8c5-2de7337ff677",
   "metadata": {
    "editable": true,
    "slideshow": {
     "slide_type": ""
    },
    "tags": [
     "clear_answer_cell"
    ]
   },
   "outputs": [],
   "source": []
  },
  {
   "cell_type": "markdown",
   "id": "f8da770a-b3e0-4e50-8845-a6b5b94e6d89",
   "metadata": {},
   "source": [
    "Let's improve the function by adding some checks. Use `if` statements to print \"bad argument\" and return `None` if the argument type isn't `int` or `float`. "
   ]
  },
  {
   "cell_type": "code",
   "execution_count": 62,
   "id": "f2019964-bc0d-4dcb-9b4a-ce12f338a652",
   "metadata": {
    "editable": true,
    "slideshow": {
     "slide_type": ""
    },
    "tags": [
     "clear_answer_cell"
    ]
   },
   "outputs": [],
   "source": [
    "def calc_hypo(a, b):\n",
    "    \n",
    "    if (type(a) != int and type(a) != float) or (type(b) != int and type(b) != float):\n",
    "        return None \n",
    "    elif ((a > 0) and (b > 0)):\n",
    "        h = (a**2 + b**2)**(0.5)\n",
    "        print(h)\n",
    "        return(h)\n",
    "    else:\n",
    "        print('bad argument')\n",
    "        return None\n",
    "    \n",
    "#(type(a) == int or type(a) == float) and (type(b) == int or type(b) == float) and\n"
   ]
  },
  {
   "cell_type": "markdown",
   "id": "f6635e58-80ed-4840-ba6d-a09e7442d129",
   "metadata": {},
   "source": [
    "Call the function with different arguments to check that this is working."
   ]
  },
  {
   "cell_type": "code",
   "execution_count": 59,
   "id": "da8e4b43-be64-410c-8a06-f33480278eb2",
   "metadata": {
    "editable": true,
    "slideshow": {
     "slide_type": ""
    },
    "tags": [
     "clear_answer_cell"
    ]
   },
   "outputs": [],
   "source": [
    "calc_hypo('a', 3)"
   ]
  },
  {
   "cell_type": "markdown",
   "id": "860ff888-80d9-4363-81a3-a748731806f8",
   "metadata": {},
   "source": [
    "Add a second check to the function which prints \"Bad argument\" and returns `None` if a number equal to or less than zero is given."
   ]
  },
  {
   "cell_type": "code",
   "execution_count": null,
   "id": "10976433-eade-48dc-aa6e-9c2107812f6d",
   "metadata": {
    "editable": true,
    "slideshow": {
     "slide_type": ""
    },
    "tags": [
     "clear_answer_cell"
    ]
   },
   "outputs": [],
   "source": []
  },
  {
   "cell_type": "markdown",
   "id": "7e47de0e-20d4-4297-9945-fc08c8c1fda6",
   "metadata": {},
   "source": [
    "Test out the check you added."
   ]
  },
  {
   "cell_type": "code",
   "execution_count": 65,
   "id": "5db34b2d-a7c6-44ee-8daf-3fed95c1c850",
   "metadata": {
    "editable": true,
    "slideshow": {
     "slide_type": ""
    },
    "tags": [
     "clear_answer_cell"
    ]
   },
   "outputs": [],
   "source": [
    "calc_hypo('a', 10)\n"
   ]
  },
  {
   "cell_type": "markdown",
   "id": "11d678c1-135f-415f-aec5-ee2215d1a32e",
   "metadata": {},
   "source": [
    "## 5. Extension Activity"
   ]
  },
  {
   "cell_type": "markdown",
   "id": "e554c739-cbb7-4137-8caa-0e5619331efb",
   "metadata": {},
   "source": [
    "1. Write a function which computes the average GDP for each file for a given country, continent and year."
   ]
  },
  {
   "cell_type": "markdown",
   "id": "6b8ff5a3-dfcc-4eec-aa62-72824c4f7b4e",
   "metadata": {},
   "source": [
    "_Hint: You will need the following steps:_\n",
    "1. Create a function with the arguments country, continent, year.\n",
    "2. Read the csv file (use the continent variable in the filename to open any file - e.g. the file name should be /data/`continent`_gdp.csv).\n",
    "3. Use `.loc[ ]` to locate where the data for the country is.\n",
    "4. Work out the GDP decade using the year given (maybe using floor division `//`).\n",
    "5. Loop over the columns to find the one which starts with 'gdpPercap_`year`' (make use of `.index` and `.startswith()`).\n",
    "6. Try calling the function and see what it returns - if you call it for Canada, americas in 1952 your answer should be 11928.55559."
   ]
  },
  {
   "cell_type": "code",
   "execution_count": 69,
   "id": "912dcf85-c6ea-49a7-b73f-4d036357cef9",
   "metadata": {
    "editable": true,
    "slideshow": {
     "slide_type": ""
    },
    "tags": [
     "clear_answer_cell"
    ]
   },
   "outputs": [
    {
     "name": "stdout",
     "output_type": "stream",
     "text": [
      "../data/americas_gdp.csv                     continent  gdpPercap_1952  gdpPercap_1957  gdpPercap_1962  \\\n",
      "country                                                                         \n",
      "Argentina            Americas     5911.315053     6856.856212     7133.166023   \n",
      "Bolivia              Americas     2677.326347     2127.686326     2180.972546   \n",
      "Brazil               Americas     2108.944355     2487.365989     3336.585802   \n",
      "Canada               Americas    11367.161120    12489.950060    13462.485550   \n",
      "Chile                Americas     3939.978789     4315.622723     4519.094331   \n",
      "Colombia             Americas     2144.115096     2323.805581     2492.351109   \n",
      "Costa Rica           Americas     2627.009471     2990.010802     3460.937025   \n",
      "Cuba                 Americas     5586.538780     6092.174359     5180.755910   \n",
      "Dominican Republic   Americas     1397.717137     1544.402995     1662.137359   \n",
      "Ecuador              Americas     3522.110717     3780.546651     4086.114078   \n",
      "El Salvador          Americas     3048.302900     3421.523218     3776.803627   \n",
      "Guatemala            Americas     2428.237769     2617.155967     2750.364446   \n",
      "Haiti                Americas     1840.366939     1726.887882     1796.589032   \n",
      "Honduras             Americas     2194.926204     2220.487682     2291.156835   \n",
      "Jamaica              Americas     2898.530881     4756.525781     5246.107524   \n",
      "Mexico               Americas     3478.125529     4131.546641     4581.609385   \n",
      "Nicaragua            Americas     3112.363948     3457.415947     3634.364406   \n",
      "Panama               Americas     2480.380334     2961.800905     3536.540301   \n",
      "Paraguay             Americas     1952.308701     2046.154706     2148.027146   \n",
      "Peru                 Americas     3758.523437     4245.256698     4957.037982   \n",
      "Puerto Rico          Americas     3081.959785     3907.156189     5108.344630   \n",
      "Trinidad and Tobago  Americas     3023.271928     4100.393400     4997.523971   \n",
      "United States        Americas    13990.482080    14847.127120    16173.145860   \n",
      "Uruguay              Americas     5716.766744     6150.772969     5603.357717   \n",
      "Venezuela            Americas     7689.799761     9802.466526     8422.974165   \n",
      "\n",
      "                     gdpPercap_1967  gdpPercap_1972  gdpPercap_1977  \\\n",
      "country                                                               \n",
      "Argentina               8052.953021     9443.038526    10079.026740   \n",
      "Bolivia                 2586.886053     2980.331339     3548.097832   \n",
      "Brazil                  3429.864357     4985.711467     6660.118654   \n",
      "Canada                 16076.588030    18970.570860    22090.883060   \n",
      "Chile                   5106.654313     5494.024437     4756.763836   \n",
      "Colombia                2678.729839     3264.660041     3815.807870   \n",
      "Costa Rica              4161.727834     5118.146939     5926.876967   \n",
      "Cuba                    5690.268015     5305.445256     6380.494966   \n",
      "Dominican Republic      1653.723003     2189.874499     2681.988900   \n",
      "Ecuador                 4579.074215     5280.994710     6679.623260   \n",
      "El Salvador             4358.595393     4520.246008     5138.922374   \n",
      "Guatemala               3242.531147     4031.408271     4879.992748   \n",
      "Haiti                   1452.057666     1654.456946     1874.298931   \n",
      "Honduras                2538.269358     2529.842345     3203.208066   \n",
      "Jamaica                 6124.703451     7433.889293     6650.195573   \n",
      "Mexico                  5754.733883     6809.406690     7674.929108   \n",
      "Nicaragua               4643.393534     4688.593267     5486.371089   \n",
      "Panama                  4421.009084     5364.249663     5351.912144   \n",
      "Paraguay                2299.376311     2523.337977     3248.373311   \n",
      "Peru                    5788.093330     5937.827283     6281.290855   \n",
      "Puerto Rico             6929.277714     9123.041742     9770.524921   \n",
      "Trinidad and Tobago     5621.368472     6619.551419     7899.554209   \n",
      "United States          19530.365570    21806.035940    24072.632130   \n",
      "Uruguay                 5444.619620     5703.408898     6504.339663   \n",
      "Venezuela               9541.474188    10505.259660    13143.950950   \n",
      "\n",
      "                     gdpPercap_1982  gdpPercap_1987  gdpPercap_1992  \\\n",
      "country                                                               \n",
      "Argentina               8997.897412     9139.671389     9308.418710   \n",
      "Bolivia                 3156.510452     2753.691490     2961.699694   \n",
      "Brazil                  7030.835878     7807.095818     6950.283021   \n",
      "Canada                 22898.792140    26626.515030    26342.884260   \n",
      "Chile                   5095.665738     5547.063754     7596.125964   \n",
      "Colombia                4397.575659     4903.219100     5444.648617   \n",
      "Costa Rica              5262.734751     5629.915318     6160.416317   \n",
      "Cuba                    7316.918107     7532.924763     5592.843963   \n",
      "Dominican Republic      2861.092386     2899.842175     3044.214214   \n",
      "Ecuador                 7213.791267     6481.776993     7103.702595   \n",
      "El Salvador             4098.344175     4140.442097     4444.231700   \n",
      "Guatemala               4820.494790     4246.485974     4439.450840   \n",
      "Haiti                   2011.159549     1823.015995     1456.309517   \n",
      "Honduras                3121.760794     3023.096699     3081.694603   \n",
      "Jamaica                 6068.051350     6351.237495     7404.923685   \n",
      "Mexico                  9611.147541     8688.156003     9472.384295   \n",
      "Nicaragua               3470.338156     2955.984375     2170.151724   \n",
      "Panama                  7009.601598     7034.779161     6618.743050   \n",
      "Paraguay                4258.503604     3998.875695     4196.411078   \n",
      "Peru                    6434.501797     6360.943444     4446.380924   \n",
      "Puerto Rico            10330.989150    12281.341910    14641.587110   \n",
      "Trinidad and Tobago     9119.528607     7388.597823     7370.990932   \n",
      "United States          25009.559140    29884.350410    32003.932240   \n",
      "Uruguay                 6920.223051     7452.398969     8137.004775   \n",
      "Venezuela              11152.410110     9883.584648    10733.926310   \n",
      "\n",
      "                     gdpPercap_1997  gdpPercap_2002  gdpPercap_2007  \n",
      "country                                                              \n",
      "Argentina              10967.281950     8797.640716    12779.379640  \n",
      "Bolivia                 3326.143191     3413.262690     3822.137084  \n",
      "Brazil                  7957.980824     8131.212843     9065.800825  \n",
      "Canada                 28954.925890    33328.965070    36319.235010  \n",
      "Chile                  10118.053180    10778.783850    13171.638850  \n",
      "Colombia                6117.361746     5755.259962     7006.580419  \n",
      "Costa Rica              6677.045314     7723.447195     9645.061420  \n",
      "Cuba                    5431.990415     6340.646683     8948.102923  \n",
      "Dominican Republic      3614.101285     4563.808154     6025.374752  \n",
      "Ecuador                 7429.455877     5773.044512     6873.262326  \n",
      "El Salvador             5154.825496     5351.568666     5728.353514  \n",
      "Guatemala               4684.313807     4858.347495     5186.050003  \n",
      "Haiti                   1341.726931     1270.364932     1201.637154  \n",
      "Honduras                3160.454906     3099.728660     3548.330846  \n",
      "Jamaica                 7121.924704     6994.774861     7320.880262  \n",
      "Mexico                  9767.297530    10742.440530    11977.574960  \n",
      "Nicaragua               2253.023004     2474.548819     2749.320965  \n",
      "Panama                  7113.692252     7356.031934     9809.185636  \n",
      "Paraguay                4247.400261     3783.674243     4172.838464  \n",
      "Peru                    5838.347657     5909.020073     7408.905561  \n",
      "Puerto Rico            16999.433300    18855.606180    19328.709010  \n",
      "Trinidad and Tobago     8792.573126    11460.600230    18008.509240  \n",
      "United States          35767.433030    39097.099550    42951.653090  \n",
      "Uruguay                 9230.240708     7727.002004    10611.462990  \n",
      "Venezuela              10165.495180     8605.047831    11415.805690  \n",
      "../data/europe_gdp.csv                         gdpPercap_1952  gdpPercap_1957  gdpPercap_1962  \\\n",
      "country                                                                  \n",
      "Albania                    1601.056136     1942.284244     2312.888958   \n",
      "Austria                    6137.076492     8842.598030    10750.721110   \n",
      "Belgium                    8343.105127     9714.960623    10991.206760   \n",
      "Bosnia and Herzegovina      973.533195     1353.989176     1709.683679   \n",
      "Bulgaria                   2444.286648     3008.670727     4254.337839   \n",
      "Croatia                    3119.236520     4338.231617     5477.890018   \n",
      "Czech Republic             6876.140250     8256.343918    10136.867130   \n",
      "Denmark                    9692.385245    11099.659350    13583.313510   \n",
      "Finland                    6424.519071     7545.415386     9371.842561   \n",
      "France                     7029.809327     8662.834898    10560.485530   \n",
      "Germany                    7144.114393    10187.826650    12902.462910   \n",
      "Greece                     3530.690067     4916.299889     6017.190733   \n",
      "Hungary                    5263.673816     6040.180011     7550.359877   \n",
      "Iceland                    7267.688428     9244.001412    10350.159060   \n",
      "Ireland                    5210.280328     5599.077872     6631.597314   \n",
      "Italy                      4931.404155     6248.656232     8243.582340   \n",
      "Montenegro                 2647.585601     3682.259903     4649.593785   \n",
      "Netherlands                8941.571858    11276.193440    12790.849560   \n",
      "Norway                    10095.421720    11653.973040    13450.401510   \n",
      "Poland                     4029.329699     4734.253019     5338.752143   \n",
      "Portugal                   3068.319867     3774.571743     4727.954889   \n",
      "Romania                    3144.613186     3943.370225     4734.997586   \n",
      "Serbia                     3581.459448     4981.090891     6289.629157   \n",
      "Slovak Republic            5074.659104     6093.262980     7481.107598   \n",
      "Slovenia                   4215.041741     5862.276629     7402.303395   \n",
      "Spain                      3834.034742     4564.802410     5693.843879   \n",
      "Sweden                     8527.844662     9911.878226    12329.441920   \n",
      "Switzerland               14734.232750    17909.489730    20431.092700   \n",
      "Turkey                     1969.100980     2218.754257     2322.869908   \n",
      "United Kingdom             9979.508487    11283.177950    12477.177070   \n",
      "\n",
      "                        gdpPercap_1967  gdpPercap_1972  gdpPercap_1977  \\\n",
      "country                                                                  \n",
      "Albania                    2760.196931     3313.422188     3533.003910   \n",
      "Austria                   12834.602400    16661.625600    19749.422300   \n",
      "Belgium                   13149.041190    16672.143560    19117.974480   \n",
      "Bosnia and Herzegovina     2172.352423     2860.169750     3528.481305   \n",
      "Bulgaria                   5577.002800     6597.494398     7612.240438   \n",
      "Croatia                    6960.297861     9164.090127    11305.385170   \n",
      "Czech Republic            11399.444890    13108.453600    14800.160620   \n",
      "Denmark                   15937.211230    18866.207210    20422.901500   \n",
      "Finland                   10921.636260    14358.875900    15605.422830   \n",
      "France                    12999.917660    16107.191710    18292.635140   \n",
      "Germany                   14745.625610    18016.180270    20512.921230   \n",
      "Greece                     8513.097016    12724.829570    14195.524280   \n",
      "Hungary                    9326.644670    10168.656110    11674.837370   \n",
      "Iceland                   13319.895680    15798.063620    19654.962470   \n",
      "Ireland                    7655.568963     9530.772896    11150.981130   \n",
      "Italy                     10022.401310    12269.273780    14255.984750   \n",
      "Montenegro                 5907.850937     7778.414017     9595.929905   \n",
      "Netherlands               15363.251360    18794.745670    21209.059200   \n",
      "Norway                    16361.876470    18965.055510    23311.349390   \n",
      "Poland                     6557.152776     8006.506993     9508.141454   \n",
      "Portugal                   6361.517993     9022.247417    10172.485720   \n",
      "Romania                    6470.866545     8011.414402     9356.397240   \n",
      "Serbia                     7991.707066    10522.067490    12980.669560   \n",
      "Slovak Republic            8412.902397     9674.167626    10922.664040   \n",
      "Slovenia                   9405.489397    12383.486200    15277.030170   \n",
      "Spain                      7993.512294    10638.751310    13236.921170   \n",
      "Sweden                    15258.296970    17832.024640    18855.725210   \n",
      "Switzerland               22966.144320    27195.113040    26982.290520   \n",
      "Turkey                     2826.356387     3450.696380     4269.122326   \n",
      "United Kingdom            14142.850890    15895.116410    17428.748460   \n",
      "\n",
      "                        gdpPercap_1982  gdpPercap_1987  gdpPercap_1992  \\\n",
      "country                                                                  \n",
      "Albania                    3630.880722     3738.932735     2497.437901   \n",
      "Austria                   21597.083620    23687.826070    27042.018680   \n",
      "Belgium                   20979.845890    22525.563080    25575.570690   \n",
      "Bosnia and Herzegovina     4126.613157     4314.114757     2546.781445   \n",
      "Bulgaria                   8224.191647     8239.854824     6302.623438   \n",
      "Croatia                   13221.821840    13822.583940     8447.794873   \n",
      "Czech Republic            15377.228550    16310.443400    14297.021220   \n",
      "Denmark                   21688.040480    25116.175810    26406.739850   \n",
      "Finland                   18533.157610    21141.012230    20647.164990   \n",
      "France                    20293.897460    22066.442140    24703.796150   \n",
      "Germany                   22031.532740    24639.185660    26505.303170   \n",
      "Greece                    15268.420890    16120.528390    17541.496340   \n",
      "Hungary                   12545.990660    12986.479980    10535.628550   \n",
      "Iceland                   23269.607500    26923.206280    25144.392010   \n",
      "Ireland                   12618.321410    13872.866520    17558.815550   \n",
      "Italy                     16537.483500    19207.234820    22013.644860   \n",
      "Montenegro                11222.587620    11732.510170     7003.339037   \n",
      "Netherlands               21399.460460    23651.323610    26790.949610   \n",
      "Norway                    26298.635310    31540.974800    33965.661150   \n",
      "Poland                     8451.531004     9082.351172     7738.881247   \n",
      "Portugal                  11753.842910    13039.308760    16207.266630   \n",
      "Romania                    9605.314053     9696.273295     6598.409903   \n",
      "Serbia                    15181.092700    15870.878510     9325.068238   \n",
      "Slovak Republic           11348.545850    12037.267580     9498.467723   \n",
      "Slovenia                  17866.721750    18678.534920    14214.716810   \n",
      "Spain                     13926.169970    15764.983130    18603.064520   \n",
      "Sweden                    20667.381250    23586.929270    23880.016830   \n",
      "Switzerland               28397.715120    30281.704590    31871.530300   \n",
      "Turkey                     4241.356344     5089.043686     5678.348271   \n",
      "United Kingdom            18232.424520    21664.787670    22705.092540   \n",
      "\n",
      "                        gdpPercap_1997  gdpPercap_2002  gdpPercap_2007  \n",
      "country                                                                 \n",
      "Albania                    3193.054604     4604.211737     5937.029526  \n",
      "Austria                   29095.920660    32417.607690    36126.492700  \n",
      "Belgium                   27561.196630    30485.883750    33692.605080  \n",
      "Bosnia and Herzegovina     4766.355904     6018.975239     7446.298803  \n",
      "Bulgaria                   5970.388760     7696.777725    10680.792820  \n",
      "Croatia                    9875.604515    11628.388950    14619.222720  \n",
      "Czech Republic            16048.514240    17596.210220    22833.308510  \n",
      "Denmark                   29804.345670    32166.500060    35278.418740  \n",
      "Finland                   23723.950200    28204.590570    33207.084400  \n",
      "France                    25889.784870    28926.032340    30470.016700  \n",
      "Germany                   27788.884160    30035.801980    32170.374420  \n",
      "Greece                    18747.698140    22514.254800    27538.411880  \n",
      "Hungary                   11712.776800    14843.935560    18008.944440  \n",
      "Iceland                   28061.099660    31163.201960    36180.789190  \n",
      "Ireland                   24521.947130    34077.049390    40675.996350  \n",
      "Italy                     24675.024460    27968.098170    28569.719700  \n",
      "Montenegro                 6465.613349     6557.194282     9253.896111  \n",
      "Netherlands               30246.130630    33724.757780    36797.933320  \n",
      "Norway                    41283.164330    44683.975250    49357.190170  \n",
      "Poland                    10159.583680    12002.239080    15389.924680  \n",
      "Portugal                  17641.031560    19970.907870    20509.647770  \n",
      "Romania                    7346.547557     7885.360081    10808.475610  \n",
      "Serbia                     7914.320304     7236.075251     9786.534714  \n",
      "Slovak Republic           12126.230650    13638.778370    18678.314350  \n",
      "Slovenia                  17161.107350    20660.019360    25768.257590  \n",
      "Spain                     20445.298960    24835.471660    28821.063700  \n",
      "Sweden                    25266.594990    29341.630930    33859.748350  \n",
      "Switzerland               32135.323010    34480.957710    37506.419070  \n",
      "Turkey                     6601.429915     6508.085718     8458.276384  \n",
      "United Kingdom            26074.531360    29478.999190    33203.261280  \n",
      "../data/oceania_gdp.csv              gdpPercap_1952  gdpPercap_1957  gdpPercap_1962  gdpPercap_1967  \\\n",
      "country                                                                       \n",
      "Australia       10039.59564     10949.64959     12217.22686     14526.12465   \n",
      "New Zealand     10556.57566     12247.39532     13175.67800     14463.91893   \n",
      "\n",
      "             gdpPercap_1972  gdpPercap_1977  gdpPercap_1982  gdpPercap_1987  \\\n",
      "country                                                                       \n",
      "Australia       16788.62948     18334.19751     19477.00928     21888.88903   \n",
      "New Zealand     16046.03728     16233.71770     17632.41040     19007.19129   \n",
      "\n",
      "             gdpPercap_1992  gdpPercap_1997  gdpPercap_2002  gdpPercap_2007  \n",
      "country                                                                      \n",
      "Australia       23424.76683     26997.93657     30687.75473     34435.36744  \n",
      "New Zealand     18363.32494     21050.41377     23189.80135     25185.00911  \n"
     ]
    }
   ],
   "source": [
    "import pandas as pd\n",
    "import glob\n",
    "gdp_files = ['../data/americas_gdp.csv', '../data/europe_gdp.csv', '../data/oceania_gdp.csv']\n",
    "for filename in gdp_files:\n",
    "    contents = pd.read_csv(filename, index_col = 'country')\n",
    "    print(filename, contents)\n",
    "\n",
    "GDP_all = \n",
    "\n",
    "\n",
    "#def average_GDP(country, continent, year):\n"
   ]
  },
  {
   "cell_type": "code",
   "execution_count": null,
   "id": "06347428-074b-4b53-a7b5-0728fb4cef92",
   "metadata": {
    "editable": true,
    "slideshow": {
     "slide_type": ""
    },
    "tags": []
   },
   "outputs": [],
   "source": []
  }
 ],
 "metadata": {
  "kernelspec": {
   "display_name": "Python 3 + Jaspy",
   "language": "python",
   "name": "jaspy"
  },
  "language_info": {
   "codemirror_mode": {
    "name": "ipython",
    "version": 3
   },
   "file_extension": ".py",
   "mimetype": "text/x-python",
   "name": "python",
   "nbconvert_exporter": "python",
   "pygments_lexer": "ipython3",
   "version": "3.11.9"
  }
 },
 "nbformat": 4,
 "nbformat_minor": 5
}
